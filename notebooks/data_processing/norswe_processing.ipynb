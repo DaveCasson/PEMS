{
 "cells": [
  {
   "attachments": {},
   "cell_type": "markdown",
   "metadata": {},
   "source": [
    "## NorSWE Data Processing ##\n",
    "\n",
    "Raw data available at: https://zenodo.org/records/14503592"
   ]
  },
  {
   "attachments": {},
   "cell_type": "markdown",
   "metadata": {},
   "source": [
    "### Import Needed Packages ###"
   ]
  },
  {
   "cell_type": "code",
   "execution_count": 1,
   "metadata": {},
   "outputs": [],
   "source": [
    "import xarray as xr\n",
    "import numpy as np\n",
    "import pandas as pd\n",
    "from pathlib import Path\n",
    "import geopandas as gpd"
   ]
  },
  {
   "cell_type": "markdown",
   "metadata": {},
   "source": [
    "### Define subsetting function ###"
   ]
  },
  {
   "cell_type": "code",
   "execution_count": 2,
   "metadata": {},
   "outputs": [],
   "source": [
    "import numpy as np\n",
    "import geopandas as gpd\n",
    "import xarray as xr\n",
    "import pandas as pd\n",
    "\n",
    "def fast_subset_norswe(input_nc, vector_gpkg, output_nc=None):\n",
    "    \"\"\"\n",
    "    Super‐fast spatial clip of NorSWE by a GPKG boundary, using positional indexing.\n",
    "    Now preserves the 'source' string variable by writing with the h5netcdf engine.\n",
    "    \"\"\"\n",
    "    # 1) Open with Dask chunks\n",
    "    ds = xr.open_dataset(input_nc,\n",
    "                         chunks={'time': 1000, 'station_id': 1000})\n",
    "\n",
    "    # 2) Deduplicate time if needed\n",
    "    time_index = pd.to_datetime(ds[\"time\"].values)\n",
    "    is_dup = time_index.duplicated(keep=\"first\")\n",
    "\n",
    "    if is_dup.any():\n",
    "        dupe_times = time_index[is_dup].unique()\n",
    "        mismatch_found = False\n",
    "\n",
    "        for tm in dupe_times:\n",
    "            all_inds = np.where(time_index == tm)[0]\n",
    "            first_ind = all_inds[0]\n",
    "            for idx in all_inds[1:]:\n",
    "                for varname in ds.data_vars:\n",
    "                    # ← Skip any variable that does NOT have a \"time\" dimension\n",
    "                    if \"time\" not in ds[varname].dims:\n",
    "                        continue\n",
    "\n",
    "                    a = ds[varname].isel(time=first_ind).compute()\n",
    "                    b = ds[varname].isel(time=idx).compute()\n",
    "                    if not a.equals(b):\n",
    "                        mismatch_found = True\n",
    "                        print(\n",
    "                            f\"WARNING: data differ for variable '{varname}' \"\n",
    "                            f\"at duplicate time {tm}. \"\n",
    "                            f\"Indices {first_ind} vs {idx}. Dropping index {idx}.\"\n",
    "                        )\n",
    "                        break\n",
    "                if mismatch_found:\n",
    "                    break\n",
    "            if mismatch_found:\n",
    "                break\n",
    "\n",
    "        mask = ~is_dup\n",
    "        ds = ds.isel(time=mask)\n",
    "        ds = ds.sortby(\"time\")\n",
    "\n",
    "    # 3) Pre‐filter by bounding box\n",
    "    gdf = gpd.read_file(vector_gpkg).to_crs(\"EPSG:4326\")\n",
    "    minx, miny, maxx, maxy = gdf.total_bounds\n",
    "\n",
    "    candidate_pos = np.where(\n",
    "        (ds.lon >= minx) & (ds.lon <= maxx) &\n",
    "        (ds.lat >= miny) & (ds.lat <= maxy)\n",
    "    )[0]\n",
    "\n",
    "    # 4) Build GeoDataFrame of candidates, carrying integer positions\n",
    "    pts = gpd.GeoDataFrame(\n",
    "        {'pos': candidate_pos},\n",
    "        geometry=gpd.points_from_xy(\n",
    "            ds.lon.values[candidate_pos],\n",
    "            ds.lat.values[candidate_pos]\n",
    "        ),\n",
    "        crs=\"EPSG:4326\"\n",
    "    )\n",
    "\n",
    "    # 5) Spatial join → pick the positions inside\n",
    "    inside = gpd.sjoin(pts, gdf, predicate=\"intersects\", how=\"inner\")\n",
    "    sel_pos = inside['pos'].values\n",
    "\n",
    "    # 6) Subset by integer pos (station_id dimension)\n",
    "    ds_sub = ds.isel(station_id=sel_pos)\n",
    "\n",
    "    # 7) By default, keep all data_vars plus all coordinates\n",
    "    #    (We only drop vars here if you explicitly list them in `to_drop`.)\n",
    "    to_drop = []\n",
    "    if to_drop:\n",
    "        ds_sub = ds_sub.drop_vars(to_drop)\n",
    "\n",
    "    # 8) Materialize & write with h5netcdf so that string vars are preserved\n",
    "    if output_nc:\n",
    "        ds_sub = ds_sub.load()\n",
    "        ds_sub.to_netcdf(\n",
    "            output_nc,\n",
    "            engine='h5netcdf',\n",
    "            format='NETCDF4'\n",
    "        )\n",
    "\n",
    "    return ds_sub\n",
    "\n",
    "\n",
    "def export_station_metadata_to_csv(subset_ds, csv_path):\n",
    "    \"\"\"\n",
    "    Writes station_id, lat, lon, and source to CSV.\n",
    "    \"\"\"\n",
    "    df = pd.DataFrame({\n",
    "        'station_id': subset_ds['station_id'].values,\n",
    "        'lat':        subset_ds['lat'].values,\n",
    "        'lon':        subset_ds['lon'].values,\n",
    "        # ensure each entry is a native Python str\n",
    "        'source':     [str(s) for s in subset_ds['source'].values]\n",
    "    })\n",
    "    df.to_csv(csv_path, index=False)"
   ]
  },
  {
   "cell_type": "markdown",
   "metadata": {},
   "source": [
    "### Define paths"
   ]
  },
  {
   "cell_type": "code",
   "execution_count": 3,
   "metadata": {},
   "outputs": [],
   "source": [
    "norswe_path = '/Users/dcasson/Data/snow_data/NorSWE/NorSWE-NorEEN_1979-2021_v3.nc'\n",
    "output_dir = '/Users/dcasson/Data/snow_data/NorSWE'\n",
    "norswe_csv_path = Path(output_dir) / 'NorSWE_station_metadata.csv'\n",
    "bow_nc_path = Path(output_dir) / 'Bow_NorSWE.nc'    \n",
    "bow_csv_path = Path(output_dir) / 'Bow_NorSWE.csv'\n",
    "chena_nc_path = Path(output_dir) / 'Chena_NorSWE.nc'\n",
    "chena_csv_path = Path(output_dir) / 'Chena_NorSWE.csv'\n",
    "tuolumne_nc_path = Path(output_dir) / 'Tuolumne_NorSWE.nc'\n",
    "tuolumne_csv_path = Path(output_dir) / 'Tuolumne_NorSWE.csv'\n",
    "\n",
    "norswe_ds = xr.open_dataset(norswe_path)\n",
    "var_list = ['source']\n",
    "export_station_metadata_to_csv(norswe_ds, norswe_csv_path)\n",
    "\n",
    "\n",
    "\n"
   ]
  },
  {
   "cell_type": "code",
   "execution_count": null,
   "metadata": {},
   "outputs": [],
   "source": [
    "bow_above_banff_boundary"
   ]
  },
  {
   "cell_type": "code",
   "execution_count": 11,
   "metadata": {},
   "outputs": [],
   "source": [
    "var_list = []\n",
    "bow_boundary = '/Users/dcasson/GitHub/PEMS/gis_data/bow/bow_boundary.gpkg'\n",
    "chena_boundary = '/Users/dcasson/GitHub/PEMS/gis_data/chena/chena_boundary.gpkg'\n",
    "tuolumne_boundary = '/Users/dcasson/GitHub/PEMS/gis_data/tuolumne/tuolumne_boundary.gpkg'\n",
    "\n",
    "bow_ds = fast_subset_norswe(norswe_path, bow_boundary, bow_nc_path)\n",
    "export_station_metadata_to_csv(bow_ds, bow_csv_path)\n",
    "\n",
    "chena_ds = fast_subset_norswe(norswe_path, chena_boundary, chena_nc_path)\n",
    "export_station_metadata_to_csv(chena_ds, chena_csv_path)\n",
    "\n",
    "tuolumne_ds = fast_subset_norswe(norswe_path, tuolumne_boundary, tuolumne_nc_path)\n",
    "export_station_metadata_to_csv(tuolumne_ds, tuolumne_csv_path)\n",
    "\n"
   ]
  },
  {
   "cell_type": "code",
   "execution_count": 25,
   "metadata": {},
   "outputs": [
    {
     "data": {
      "image/png": "[encoded data removed]",
      "text/plain": [
       "<Figure size 1500x800 with 1 Axes>"
      ]
     },
     "metadata": {},
     "output_type": "display_data"
    }
   ],
   "source": [
    "import matplotlib.pyplot as plt\n",
    "\n",
    "def plot_station_timeseries(ds, var_name, station_idx):\n",
    "    \"\"\"\n",
    "    Plot a time series for a specific variable and station using x markers\n",
    "    \n",
    "    Parameters:\n",
    "    -----------\n",
    "    ds : xarray.Dataset\n",
    "        Dataset containing the data\n",
    "    var_name : str\n",
    "        Name of variable to plot (e.g. 'snw' or 'snd')\n",
    "    station_idx : int\n",
    "        Index of station to plot\n",
    "    \"\"\"\n",
    "    station_data = ds.isel(station_id=station_idx)\n",
    "    \n",
    "    plt.figure(figsize=(15, 8))\n",
    "    plt.plot(station_data.time, station_data[var_name], 'x', label=f'Station {station_idx+1}')\n",
    "    \n",
    "    plt.xlabel('Time')\n",
    "    plt.ylabel(var_name.upper())\n",
    "    plt.title(f'{var_name.upper()} Time Series for Station {station_idx+1}')\n",
    "    plt.grid(True)\n",
    "    plt.tight_layout()\n",
    "\n",
    "# Example usage:\n",
    "plot_station_timeseries(bow_ds, 'snw',12)  # Plot SWE for first station\n",
    "# plot_station_timeseries(bow_ds, 'snd', 0)  # Plot snow depth for first station\n",
    "\n",
    "\n",
    "\n",
    "\n",
    "\n",
    "\n",
    "\n",
    "\n"
   ]
  }
 ],
 "metadata": {
  "kernelspec": {
   "display_name": "gpep_snakemake",
   "language": "python",
   "name": "python3"
  },
  "language_info": {
   "codemirror_mode": {
    "name": "ipython",
    "version": 3
   },
   "file_extension": ".py",
   "mimetype": "text/x-python",
   "name": "python",
   "nbconvert_exporter": "python",
   "pygments_lexer": "ipython3",
   "version": "3.10.0"
  }
 },
 "nbformat": 4,
 "nbformat_minor": 2
}
