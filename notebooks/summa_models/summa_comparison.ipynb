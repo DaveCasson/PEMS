{
 "cells": [
  {
   "cell_type": "markdown",
   "metadata": {},
   "source": [
    "## Loading the required modules"
   ]
  },
  {
   "cell_type": "code",
   "execution_count": 3,
   "metadata": {},
   "outputs": [
    {
     "name": "stdout",
     "output_type": "stream",
     "text": [
      "%pylab is deprecated, use %matplotlib inline and import the required libraries.\n",
      "Populating the interactive namespace from numpy and matplotlib\n",
      "The autoreload extension is already loaded. To reload it, use:\n",
      "  %reload_ext autoreload\n"
     ]
    }
   ],
   "source": [
    "%pylab inline\n",
    "%load_ext autoreload\n",
    "%autoreload 2\n",
    "%reload_ext autoreload\n",
    "import os \n",
    "import pysumma as ps\n",
    "import pysumma.plotting as psp\n",
    "import matplotlib.pyplot as plt\n",
    "from pathlib import Path"
   ]
  },
  {
   "cell_type": "markdown",
   "metadata": {},
   "source": [
    "<br>\n",
    "\n",
    "## Instantiating a simulation object\n"
   ]
  },
  {
   "cell_type": "code",
   "execution_count": 4,
   "metadata": {},
   "outputs": [],
   "source": [
    "# Define location of .exe and file manager\n",
    "summa_exe = '/Users/dcasson/GitHub/summa/bin/summa.exe'\n",
    "reynolds_data_path = '/Users/dcasson/GitHub/pysumma/tutorial/data/reynolds/'\n",
    "confluence_station_data_path = '/Users/dcasson/Data/snow_lse/domain_aiken_lake_pillow/'\n",
    "reynolds_file_manager = Path(reynolds_data_path, 'file_manager.txt')\n",
    "confluence_file_manager = Path(confluence_station_data_path, 'fileManager.txt')"
   ]
  },
  {
   "cell_type": "markdown",
   "metadata": {},
   "source": [
    "## Create simulation objects\n",
    "\n",
    "Note the following updates are needed:\n",
    "- Update the file manager to point to the correct directory\n",
    "- Update the output control to be compatiable with pysumma"
   ]
  },
  {
   "cell_type": "code",
   "execution_count": 25,
   "metadata": {},
   "outputs": [],
   "source": [
    "# Create a model instance\n",
    "reynolds_sim = ps.Simulation(summa_exe, reynolds_file_manager)\n",
    "confluence_sim = ps.Simulation(summa_exe, confluence_file_manager)"
   ]
  },
  {
   "cell_type": "markdown",
   "metadata": {},
   "source": [
    "### File manager\n",
    "Let's take a look at what the file manager text file actually contains:"
   ]
  },
  {
   "cell_type": "code",
   "execution_count": 27,
   "metadata": {},
   "outputs": [
    {
     "name": "stdout",
     "output_type": "stream",
     "text": [
      "controlVersion                       'SUMMA_FILE_MANAGER_V3.0.0'\n",
      "simStartTime                         '1999-10-01 01:00'\n",
      "simEndTime                           '2002-09-30 23:00'\n",
      "tmZoneInfo                           'localTime'\n",
      "settingsPath                         '/Users/dcasson/GitHub/pysumma/tutorial/data/reynolds/settings/'\n",
      "forcingPath                          '/Users/dcasson/GitHub/pysumma/tutorial/data/reynolds/forcing/'\n",
      "outputPath                           '/Users/dcasson/GitHub/pysumma/tutorial/data/reynolds/output/'\n",
      "decisionsFile                        'snow_zDecisions.txt'\n",
      "outputControlFile                    'snow_zOutputControl.txt'\n",
      "globalHruParamFile                   'snow_zLocalParamInfo.txt'\n",
      "globalGruParamFile                   'snow_zBasinParamInfo.txt'\n",
      "attributeFile                        'snow_zLocalAttributes.nc'\n",
      "trialParamFile                       'snow_zParamTrial.nc'\n",
      "forcingListFile                      'forcing_file_list.txt'\n",
      "initConditionFile                    'snow_zInitCond.nc'\n",
      "outFilePrefix                        'reynolds'\n",
      "vegTableFile                         'VEGPARM.TBL'\n",
      "soilTableFile                        'SOILPARM.TBL'\n",
      "generalTableFile                     'GENPARM.TBL'\n",
      "noahmpTableFile                      'MPTABLE.TBL'\n",
      "controlVersion                       'SUMMA_FILE_MANAGER_V3.0.0'\n",
      "simStartTime                         '1950-01-01 01:00'\n",
      "simEndTime                           '2022-12-31 23:00'\n",
      "tmZoneInfo                           'utcTime'\n",
      "outFilePrefix                        'run_1'\n",
      "settingsPath                         '/Users/dcasson/Data/snow_lse/domain_aiken_lake_pillow/'\n",
      "forcingPath                          '/Users/dcasson/Data/snow_lse/domain_aiken_lake_pillow/'\n",
      "outputPath                           '/Users/dcasson/Data/snow_lse/domain_aiken_lake_pillow/'\n",
      "initConditionFile                    'coldState.nc'\n",
      "attributeFile                        'attributes.nc'\n",
      "trialParamFile                       'trialParams.nc'\n",
      "forcingListFile                      'forcingFileList.txt'\n",
      "decisionsFile                        'modelDecisions.txt'\n",
      "outputControlFile                    'outputControl.txt'\n",
      "globalHruParamFile                   'localParamInfo.txt'\n",
      "globalGruParamFile                   'basinParamInfo.txt'\n",
      "vegTableFile                         'TBL_VEGPARM.TBL'\n",
      "soilTableFile                        'TBL_SOILPARM.TBL'\n",
      "generalTableFile                     'TBL_GENPARM.TBL'\n",
      "noahmpTableFile                      'TBL_MPTABLE.TBL'\n"
     ]
    }
   ],
   "source": [
    "print(reynolds_sim.manager)\n",
    "print(confluence_sim.manager)"
   ]
  },
  {
   "cell_type": "code",
   "execution_count": 56,
   "metadata": {},
   "outputs": [
    {
     "name": "stdout",
     "output_type": "stream",
     "text": [
      "Comparing 'decisions' between reynolds_sim and confluence_sim:\n",
      "--------------------------------------------------------------------------------\n",
      "alb_method:\n",
      "  reynolds_sim: varDecay\n",
      "  confluence_sim: conDecay\n",
      "hc_profile:\n",
      "  reynolds_sim: pow_prof\n",
      "  confluence_sim: constant\n",
      "rootProfil only in reynolds_sim: powerLaw\n",
      "snowDenNew only in reynolds_sim: constDens\n",
      "subRouting:\n",
      "  reynolds_sim: timeDlay\n",
      "  confluence_sim: qInstant\n",
      "veg_traits:\n",
      "  reynolds_sim: CM_QJRMS1988\n",
      "  confluence_sim: Raupach_BLM1994\n",
      "vegeParTbl:\n",
      "  reynolds_sim: USGS\n",
      "  confluence_sim: MODIFIED_IGBP_MODIS_NOAH\n",
      "Comparing 'global_hru_params' between reynolds_sim and confluence_sim:\n",
      "--------------------------------------------------------------------------------\n",
      "albedoMax:\n",
      "  reynolds_sim: [0.84, 0.7, 0.95]\n",
      "  confluence_sim: [0.84, 0.7, 0.9]\n",
      "albedoMinWinter:\n",
      "  reynolds_sim: [0.55, 0.6, 1.0]\n",
      "  confluence_sim: [0.55, 0.55, 1.0]\n",
      "aquiferBaseflowRate:\n",
      "  reynolds_sim: [2.0, 1.0, 10.0]\n",
      "  confluence_sim: [0.1, 0.0, 0.1]\n",
      "canopyWettingExp:\n",
      "  reynolds_sim: [1.0, 0.0, 1.0]\n",
      "  confluence_sim: [1.0, 0.4, 1.0]\n",
      "k_macropore:\n",
      "  reynolds_sim: [0.001, 1e-07, 1e-05]\n",
      "  confluence_sim: [0.001, 1e-07, 0.1]\n",
      "leafExchangeCoeff:\n",
      "  reynolds_sim: [0.01, 0.001, 0.1]\n",
      "  confluence_sim: [0.01, 0.001, 0.01]\n",
      "relConvTol_matric:\n",
      "  reynolds_sim: [1e-06, 1e-05, 0.1]\n",
      "  confluence_sim: [1e-06, 1e-07, 0.1]\n",
      "snowfrz_scale:\n",
      "  reynolds_sim: [50.0, 10.0, 1000.0]\n",
      "  confluence_sim: [50.0, 10.0, 100.0]\n",
      "specificStorage:\n",
      "  reynolds_sim: [1e-09, 1e-05, 1e-07]\n",
      "  confluence_sim: [1e-06, 1e-05, 1e-07]\n",
      "vGn_n:\n",
      "  reynolds_sim: [1.3, 1.0, 3.0]\n",
      "  confluence_sim: [1.5, 1.4, 3.0]\n",
      "windReductionParam:\n",
      "  reynolds_sim: [0.28, 0.0, 1.0]\n",
      "  confluence_sim: [0.28, 0.25, 1.0]\n",
      "zmax:\n",
      "  reynolds_sim: [0.075, 0.01, 0.5]\n",
      "  confluence_sim: [0.05, 0.01, 0.5]\n"
     ]
    }
   ],
   "source": [
    "def compare_simulation_options(sim1, sim2, attr_name, sim1_name=\"sim1\", sim2_name=\"sim2\"):\n",
    "    \"\"\"\n",
    "    Compare the specified attribute (e.g., decisions or global_hru_params) between two simulations.\n",
    "    \n",
    "    Parameters:\n",
    "    -----------\n",
    "    sim1 : Simulation object\n",
    "        First simulation to compare\n",
    "    sim2 : Simulation object\n",
    "        Second simulation to compare\n",
    "    attr_name : str\n",
    "        Name of the attribute to compare (e.g., 'decisions' or 'global_hru_params')\n",
    "    sim1_name : str, optional\n",
    "        Name of the first simulation for display purposes\n",
    "    sim2_name : str, optional\n",
    "        Name of the second simulation for display purposes\n",
    "    \"\"\"\n",
    "    print(f\"Comparing '{attr_name}' between {sim1_name} and {sim2_name}:\")\n",
    "    print(\"-\" * 80)\n",
    "\n",
    "    # Get the attribute (assumed to be a list-like object with 'options')\n",
    "    attr1 = getattr(sim1, attr_name)\n",
    "    attr2 = getattr(sim2, attr_name)\n",
    "\n",
    "    # Get all unique option names\n",
    "    keys1 = {opt.name for opt in attr1.options}\n",
    "    keys2 = {opt.name for opt in attr2.options}\n",
    "    all_keys = sorted(keys1.union(keys2))\n",
    "\n",
    "    differences_found = False\n",
    "\n",
    "    for key in all_keys:\n",
    "        opt1 = next((opt for opt in attr1.options if opt.name == key), None)\n",
    "        opt2 = next((opt for opt in attr2.options if opt.name == key), None)\n",
    "\n",
    "        if opt1 is None:\n",
    "            print(f\"{key} only in {sim2_name}: {opt2.value}\")\n",
    "            differences_found = True\n",
    "        elif opt2 is None:\n",
    "            print(f\"{key} only in {sim1_name}: {opt1.value}\")\n",
    "            differences_found = True\n",
    "        elif str(opt1.value) != str(opt2.value):\n",
    "            print(f\"{key}:\")\n",
    "            print(f\"  {sim1_name}: {opt1.value}\")\n",
    "            print(f\"  {sim2_name}: {opt2.value}\")\n",
    "            differences_found = True\n",
    "\n",
    "    if not differences_found:\n",
    "        print(f\"No differences found in '{attr_name}' between the two simulations.\")\n",
    "\n",
    "# Compare decisions\n",
    "compare_simulation_options(reynolds_sim, confluence_sim, sim1_name=\"reynolds_sim\", sim2_name=\"confluence_sim\", attr_name=\"decisions\")\n",
    "\n",
    "# Compare global HRU parameters\n",
    "compare_simulation_options(reynolds_sim, confluence_sim, sim1_name=\"reynolds_sim\", sim2_name=\"confluence_sim\", attr_name=\"global_hru_params\")\n"
   ]
  },
  {
   "cell_type": "code",
   "execution_count": null,
   "metadata": {},
   "outputs": [],
   "source": []
  }
 ],
 "metadata": {
  "kernelspec": {
   "display_name": "summa_snakemake",
   "language": "python",
   "name": "python3"
  },
  "language_info": {
   "codemirror_mode": {
    "name": "ipython",
    "version": 3
   },
   "file_extension": ".py",
   "mimetype": "text/x-python",
   "name": "python",
   "nbconvert_exporter": "python",
   "pygments_lexer": "ipython3",
   "version": "3.10.0"
  },
  "widgets": {
   "application/vnd.jupyter.widget-state+json": {
    "state": {},
    "version_major": 2,
    "version_minor": 0
   }
  }
 },
 "nbformat": 4,
 "nbformat_minor": 4
}
